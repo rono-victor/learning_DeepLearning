{
 "cells": [
  {
   "cell_type": "markdown",
   "metadata": {},
   "source": [
    "DL is a class of ML algorithms that use multiple layers of computational units where each layer learns its own represenation of the input data. These representations are combined by later llayers in a hierarchial fashion"
   ]
  },
  {
   "cell_type": "markdown",
   "metadata": {},
   "source": [
    "### Python Implementation of Perceptron Function"
   ]
  },
  {
   "cell_type": "code",
   "execution_count": null,
   "metadata": {},
   "outputs": [],
   "source": [
    "#first element in vextor x must be 1\n",
    "# length of w and x must be n+1 for neuron with n inputs\n",
    "def compute_output(w,x):\n",
    "    z = 0.0\n",
    "    for i in range(len(w)):\n",
    "        z += x[i] * w[i] #compute sum of weighted inputs\n",
    "    if z < 0: #apply sign function\n",
    "        return -1\n",
    "    else:\n",
    "        return 1\n",
    "\n"
   ]
  }
 ],
 "metadata": {
  "language_info": {
   "name": "python"
  }
 },
 "nbformat": 4,
 "nbformat_minor": 2
}
